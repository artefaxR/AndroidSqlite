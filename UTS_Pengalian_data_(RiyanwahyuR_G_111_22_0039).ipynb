{
  "nbformat": 4,
  "nbformat_minor": 0,
  "metadata": {
    "colab": {
      "provenance": [],
      "authorship_tag": "ABX9TyOzwR7A/DE2mKAV0IpGFawe",
      "include_colab_link": true
    },
    "kernelspec": {
      "name": "python3",
      "display_name": "Python 3"
    },
    "language_info": {
      "name": "python"
    }
  },
  "cells": [
    {
      "cell_type": "markdown",
      "metadata": {
        "id": "view-in-github",
        "colab_type": "text"
      },
      "source": [
        "<a href=\"https://colab.research.google.com/github/artefaxR/AndroidSqlite/blob/master/UTS_Pengalian_data_(RiyanwahyuR_G_111_22_0039).ipynb\" target=\"_parent\"><img src=\"https://colab.research.google.com/assets/colab-badge.svg\" alt=\"Open In Colab\"/></a>"
      ]
    },
    {
      "cell_type": "code",
      "execution_count": 1,
      "metadata": {
        "colab": {
          "base_uri": "https://localhost:8080/"
        },
        "id": "zckKwGZGHiMW",
        "outputId": "f6b825e5-bbb3-43f9-ed0e-b2c3166733e7"
      },
      "outputs": [
        {
          "output_type": "stream",
          "name": "stdout",
          "text": [
            "Requirement already satisfied: mlxtend in /usr/local/lib/python3.10/dist-packages (0.22.0)\n",
            "Requirement already satisfied: scipy>=1.2.1 in /usr/local/lib/python3.10/dist-packages (from mlxtend) (1.11.4)\n",
            "Requirement already satisfied: numpy>=1.16.2 in /usr/local/lib/python3.10/dist-packages (from mlxtend) (1.25.2)\n",
            "Requirement already satisfied: pandas>=0.24.2 in /usr/local/lib/python3.10/dist-packages (from mlxtend) (2.0.3)\n",
            "Requirement already satisfied: scikit-learn>=1.0.2 in /usr/local/lib/python3.10/dist-packages (from mlxtend) (1.2.2)\n",
            "Requirement already satisfied: matplotlib>=3.0.0 in /usr/local/lib/python3.10/dist-packages (from mlxtend) (3.7.1)\n",
            "Requirement already satisfied: joblib>=0.13.2 in /usr/local/lib/python3.10/dist-packages (from mlxtend) (1.4.0)\n",
            "Requirement already satisfied: setuptools in /usr/local/lib/python3.10/dist-packages (from mlxtend) (67.7.2)\n",
            "Requirement already satisfied: contourpy>=1.0.1 in /usr/local/lib/python3.10/dist-packages (from matplotlib>=3.0.0->mlxtend) (1.2.1)\n",
            "Requirement already satisfied: cycler>=0.10 in /usr/local/lib/python3.10/dist-packages (from matplotlib>=3.0.0->mlxtend) (0.12.1)\n",
            "Requirement already satisfied: fonttools>=4.22.0 in /usr/local/lib/python3.10/dist-packages (from matplotlib>=3.0.0->mlxtend) (4.51.0)\n",
            "Requirement already satisfied: kiwisolver>=1.0.1 in /usr/local/lib/python3.10/dist-packages (from matplotlib>=3.0.0->mlxtend) (1.4.5)\n",
            "Requirement already satisfied: packaging>=20.0 in /usr/local/lib/python3.10/dist-packages (from matplotlib>=3.0.0->mlxtend) (24.0)\n",
            "Requirement already satisfied: pillow>=6.2.0 in /usr/local/lib/python3.10/dist-packages (from matplotlib>=3.0.0->mlxtend) (9.4.0)\n",
            "Requirement already satisfied: pyparsing>=2.3.1 in /usr/local/lib/python3.10/dist-packages (from matplotlib>=3.0.0->mlxtend) (3.1.2)\n",
            "Requirement already satisfied: python-dateutil>=2.7 in /usr/local/lib/python3.10/dist-packages (from matplotlib>=3.0.0->mlxtend) (2.8.2)\n",
            "Requirement already satisfied: pytz>=2020.1 in /usr/local/lib/python3.10/dist-packages (from pandas>=0.24.2->mlxtend) (2023.4)\n",
            "Requirement already satisfied: tzdata>=2022.1 in /usr/local/lib/python3.10/dist-packages (from pandas>=0.24.2->mlxtend) (2024.1)\n",
            "Requirement already satisfied: threadpoolctl>=2.0.0 in /usr/local/lib/python3.10/dist-packages (from scikit-learn>=1.0.2->mlxtend) (3.4.0)\n",
            "Requirement already satisfied: six>=1.5 in /usr/local/lib/python3.10/dist-packages (from python-dateutil>=2.7->matplotlib>=3.0.0->mlxtend) (1.16.0)\n"
          ]
        }
      ],
      "source": [
        "!pip install mlxtend\n"
      ]
    },
    {
      "cell_type": "code",
      "source": [
        "import pandas as pd\n",
        "from mlxtend.preprocessing import TransactionEncoder\n",
        "from mlxtend.frequent_patterns import apriori, association_rules\n",
        "\n",
        "# Data transaksi contoh\n",
        "dataset = [['Susu', 'Roti', 'Telur'],\n",
        " ['Susu', 'Roti'],\n",
        " ['Roti', 'Kue'],\n",
        " ['Susu', 'Telur'],\n",
        " ['Susu', 'Roti', 'Telur', 'Kue'],\n",
        " ['Roti', 'Telur']]\n",
        "\n",
        "# Menggunakan TransactionEncoder untuk mengubah data ke dalam bentuk yang sesuai\n",
        "te = TransactionEncoder()\n",
        "te_ary = te.fit(dataset).transform(dataset)\n",
        "df = pd.DataFrame(te_ary, columns=te.columns_)\n",
        "\n",
        "# Menerapkan algoritma Apriori\n",
        "frequent_itemsets = apriori(df, min_support=0.5, use_colnames=True)\n",
        "\n",
        "# Menghitung aturan asosiasi\n",
        "rules = association_rules(frequent_itemsets, metric=\"confidence\", min_threshold=0.7)\n",
        "\n",
        "print(\"Frequent Itemsets:\\n\", frequent_itemsets)\n",
        "print(\"\\nAssociation Rules:\\n\", rules)\n"
      ],
      "metadata": {
        "colab": {
          "base_uri": "https://localhost:8080/"
        },
        "id": "I8N5NvtxH7Fh",
        "outputId": "d75718a4-cee0-49dd-c27a-fad2815dcf34"
      },
      "execution_count": 2,
      "outputs": [
        {
          "output_type": "stream",
          "name": "stdout",
          "text": [
            "Frequent Itemsets:\n",
            "     support       itemsets\n",
            "0  0.833333         (Roti)\n",
            "1  0.666667         (Susu)\n",
            "2  0.666667        (Telur)\n",
            "3  0.500000   (Susu, Roti)\n",
            "4  0.500000  (Telur, Roti)\n",
            "5  0.500000  (Telur, Susu)\n",
            "\n",
            "Association Rules:\n",
            "   antecedents consequents  antecedent support  consequent support  support  \\\n",
            "0      (Susu)      (Roti)            0.666667            0.833333      0.5   \n",
            "1     (Telur)      (Roti)            0.666667            0.833333      0.5   \n",
            "2     (Telur)      (Susu)            0.666667            0.666667      0.5   \n",
            "3      (Susu)     (Telur)            0.666667            0.666667      0.5   \n",
            "\n",
            "   confidence   lift  leverage  conviction  zhangs_metric  \n",
            "0        0.75  0.900 -0.055556    0.666667      -0.250000  \n",
            "1        0.75  0.900 -0.055556    0.666667      -0.250000  \n",
            "2        0.75  1.125  0.055556    1.333333       0.333333  \n",
            "3        0.75  1.125  0.055556    1.333333       0.333333  \n"
          ]
        }
      ]
    },
    {
      "cell_type": "code",
      "source": [
        "from mlxtend.frequent_patterns import fpgrowth\n",
        "\n",
        "# Menerapkan algoritma FP-Growth\n",
        "frequent_itemsets_fp = fpgrowth(df, min_support=0.5, use_colnames=True)\n",
        "\n",
        "# Menghitung aturan asosiasi menggunakan hasil FP-Growth\n",
        "rules_fp = association_rules(frequent_itemsets_fp, metric=\"confidence\", min_threshold=0.7)\n",
        "\n",
        "print(\"Frequent Itemsets from FP-Growth:\\n\", frequent_itemsets_fp)\n",
        "print(\"\\nAssociation Rules from FP-Growth:\\n\", rules_fp)"
      ],
      "metadata": {
        "colab": {
          "base_uri": "https://localhost:8080/"
        },
        "id": "rBmymle4IWC-",
        "outputId": "0094f364-2303-4369-c2f1-9311bbefd080"
      },
      "execution_count": 3,
      "outputs": [
        {
          "output_type": "stream",
          "name": "stdout",
          "text": [
            "Frequent Itemsets from FP-Growth:\n",
            "     support       itemsets\n",
            "0  0.833333         (Roti)\n",
            "1  0.666667        (Telur)\n",
            "2  0.666667         (Susu)\n",
            "3  0.500000  (Telur, Roti)\n",
            "4  0.500000  (Telur, Susu)\n",
            "5  0.500000   (Susu, Roti)\n",
            "\n",
            "Association Rules from FP-Growth:\n",
            "   antecedents consequents  antecedent support  consequent support  support  \\\n",
            "0     (Telur)      (Roti)            0.666667            0.833333      0.5   \n",
            "1     (Telur)      (Susu)            0.666667            0.666667      0.5   \n",
            "2      (Susu)     (Telur)            0.666667            0.666667      0.5   \n",
            "3      (Susu)      (Roti)            0.666667            0.833333      0.5   \n",
            "\n",
            "   confidence   lift  leverage  conviction  zhangs_metric  \n",
            "0        0.75  0.900 -0.055556    0.666667      -0.250000  \n",
            "1        0.75  1.125  0.055556    1.333333       0.333333  \n",
            "2        0.75  1.125  0.055556    1.333333       0.333333  \n",
            "3        0.75  0.900 -0.055556    0.666667      -0.250000  \n"
          ]
        },
        {
          "output_type": "stream",
          "name": "stderr",
          "text": [
            "/usr/local/lib/python3.10/dist-packages/ipykernel/ipkernel.py:283: DeprecationWarning: `should_run_async` will not call `transform_cell` automatically in the future. Please pass the result to `transformed_cell` argument and any exception that happen during thetransform in `preprocessing_exc_tuple` in IPython 7.17 and above.\n",
            "  and should_run_async(code)\n"
          ]
        }
      ]
    }
  ]
}